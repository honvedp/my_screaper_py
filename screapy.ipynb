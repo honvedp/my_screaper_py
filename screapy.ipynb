{
 "cells": [
  {
   "cell_type": "code",
   "execution_count": 8,
   "metadata": {},
   "outputs": [
    {
     "name": "stdout",
     "output_type": "stream",
     "text": [
      "Start: 2018-01-31 19:47:31\n",
      "\n",
      "URL: https://www.google.hu/\n"
     ]
    },
    {
     "name": "stderr",
     "output_type": "stream",
     "text": [
      "C:\\Anaconda3\\lib\\site-packages\\urllib3\\connectionpool.py:858: InsecureRequestWarning: Unverified HTTPS request is being made. Adding certificate verification is strongly advised. See: https://urllib3.readthedocs.io/en/latest/advanced-usage.html#ssl-warnings\n",
      "  InsecureRequestWarning)\n"
     ]
    },
    {
     "name": "stdout",
     "output_type": "stream",
     "text": [
      "Title: Google\n",
      "\n",
      "End: 2018-01-31 19:47:33.648760\n"
     ]
    }
   ],
   "source": [
    "import re\n",
    "import bs4 as bs\n",
    "import urllib3\n",
    "import datetime\n",
    "\n",
    "# print('Start: ' + datetime.datetime.fromtimestamp(time.time()).strftime('%Y-%m-%d %H:%M:%S')+ '\\n')\n",
    "print('Start: ' + str(datetime.datetime.now()))\n",
    "\n",
    "\n",
    "# souce = urllib3.urlopen('https://hu.wikipedia.org/wiki/%C3%81der_J%C3%A1nos').read()  # stuff will contain the *entire* page\n",
    "# url = 'http://dwhfs.res.hu.corp:802/index.php/Main_Page'\n",
    "url = 'https://www.google.hu/'\n",
    "print('URL: ' + url)\n",
    "\n",
    "# http://proxy.telekom.intra/proxy.pac\n",
    "#    , proxies={'http': proxy}\n",
    "\n",
    "\n",
    "http = urllib3.PoolManager()\n",
    "response = http.request('GET', url)\n",
    "soup = bs.BeautifulSoup(response.data, \"lxml\")\n",
    "\n",
    "# results = soup.find_all(string=re.compile('amelyik'))\n",
    "# print(results[0].parent)\n",
    "print('Title: ' + soup.title.string)\n",
    "\n",
    "for tag in soup.find_all(string=re.compile(\"amelyik\")):\n",
    "    print(tag.parent)\n",
    "\n",
    "# print soup(text=re.compile('exact text') )\n",
    "# print(soup)\n",
    "\n",
    "# print('\\n' + 'End: ' + datetime.datetime.fromtimestamp(time.time()).strftime('%Y-%m-%d %H:%M:%S'))\n",
    "print('\\nEnd: ' + str(datetime.datetime.now()))\n"
   ]
  },
  {
   "cell_type": "code",
   "execution_count": null,
   "metadata": {
    "collapsed": true
   },
   "outputs": [],
   "source": []
  }
 ],
 "metadata": {
  "kernelspec": {
   "display_name": "Python 3",
   "language": "python",
   "name": "python3"
  },
  "language_info": {
   "codemirror_mode": {
    "name": "ipython",
    "version": 3
   },
   "file_extension": ".py",
   "mimetype": "text/x-python",
   "name": "python",
   "nbconvert_exporter": "python",
   "pygments_lexer": "ipython3",
   "version": "3.6.3"
  }
 },
 "nbformat": 4,
 "nbformat_minor": 2
}
